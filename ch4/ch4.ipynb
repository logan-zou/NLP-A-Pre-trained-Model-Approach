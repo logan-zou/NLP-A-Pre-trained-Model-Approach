{
 "cells": [
  {
   "cell_type": "markdown",
   "metadata": {},
   "source": [
    "### 实现《自然语言处理——预训练模型方法》原书第四章代码"
   ]
  },
  {
   "cell_type": "markdown",
   "metadata": {},
   "source": [
    "1. MLP实现"
   ]
  },
  {
   "cell_type": "code",
   "execution_count": 1,
   "metadata": {},
   "outputs": [],
   "source": [
    "# 导入所需库\n",
    "import torch\n",
    "from torch import nn\n",
    "from torch.nn import functional as F"
   ]
  },
  {
   "cell_type": "code",
   "execution_count": 4,
   "metadata": {},
   "outputs": [],
   "source": [
    "# 创建一个MLP类\n",
    "class MLP(nn.Module):\n",
    "    # 基类为nn.Module\n",
    "    def __init__(self, input_dim, hidden_dim, num_class):\n",
    "        # 构造函数\n",
    "        # input_dim:输入数据维度\n",
    "        # hidden_dim:隐藏层维度\n",
    "        # num_class:多分类个数\n",
    "        super(MLP, self).__init__()\n",
    "\n",
    "        self.linear1 = nn.Linear(input_dim, hidden_dim)\n",
    "        # 隐含层，线性变换\n",
    "        self.activate = F.relu\n",
    "        # 使用relu函数作为激活函数：小于0的值输出为0\n",
    "        self.linear2 = nn.Linear(hidden_dim, num_class)\n",
    "        # 输出层，线性变换\n",
    "\n",
    "    def forward(self, inputs):\n",
    "        # 前向计算函数\n",
    "        # inputs:输入\n",
    "        print(f\"输入为：{inputs}\")\n",
    "        hidden = self.linear1(inputs)\n",
    "        print(f\"经过隐含层变换为：{hidden}\")\n",
    "        activation = self.activate(hidden)\n",
    "        print(f\"经过激活后为：{activation}\")\n",
    "        outputs = self.linear2(activation)\n",
    "        print(f\"输出层输出为：{outputs}\")\n",
    "        probs = F.softmax(outputs, dim = 1)\n",
    "        print(f\"输出概率值为：{probs}\")\n",
    "        # 归一化为概率值\n",
    "        return probs\n"
   ]
  },
  {
   "cell_type": "code",
   "execution_count": 5,
   "metadata": {},
   "outputs": [
    {
     "name": "stdout",
     "output_type": "stream",
     "text": [
      "输入为：tensor([[0.2840, 0.3345, 0.5389, 0.4109],\n",
      "        [0.1151, 0.6950, 0.7657, 0.8501],\n",
      "        [0.1254, 0.6561, 0.3595, 0.6281]])\n",
      "经过隐含层变换为：tensor([[ 0.0918, -0.3648,  0.0221, -0.0366,  0.2924],\n",
      "        [ 0.0231, -0.3179, -0.2034,  0.1455,  0.2739],\n",
      "        [-0.0328, -0.2742,  0.0010,  0.0370,  0.2395]],\n",
      "       grad_fn=<AddmmBackward0>)\n",
      "经过激活后为：tensor([[0.0918, 0.0000, 0.0221, 0.0000, 0.2924],\n",
      "        [0.0231, 0.0000, 0.0000, 0.1455, 0.2739],\n",
      "        [0.0000, 0.0000, 0.0010, 0.0370, 0.2395]], grad_fn=<ReluBackward0>)\n",
      "输出层输出为：tensor([[0.4405, 0.1669],\n",
      "        [0.5124, 0.1831],\n",
      "        [0.4834, 0.1595]], grad_fn=<AddmmBackward0>)\n",
      "输出概率值为：tensor([[0.5680, 0.4320],\n",
      "        [0.5816, 0.4184],\n",
      "        [0.5803, 0.4197]], grad_fn=<SoftmaxBackward0>)\n",
      "tensor([[0.5680, 0.4320],\n",
      "        [0.5816, 0.4184],\n",
      "        [0.5803, 0.4197]], grad_fn=<SoftmaxBackward0>)\n"
     ]
    }
   ],
   "source": [
    "# 调用该模型\n",
    "mlp = MLP(input_dim = 4, hidden_dim = 5, num_class = 2)\n",
    "inputs = torch.rand(3, 4)\n",
    "probs = mlp(inputs)\n",
    "print(probs)"
   ]
  },
  {
   "cell_type": "markdown",
   "metadata": {},
   "source": [
    "2. 卷积神经网络实现"
   ]
  },
  {
   "cell_type": "code",
   "execution_count": 6,
   "metadata": {},
   "outputs": [],
   "source": [
    "# 导入所需库\n",
    "import torch\n",
    "from torch import nn\n",
    "from torch.nn import functional as F\n",
    "from torch.nn import Conv1d\n",
    "from torch.nn import MaxPool1d"
   ]
  },
  {
   "cell_type": "code",
   "execution_count": 27,
   "metadata": {},
   "outputs": [],
   "source": [
    "# 创建一个CNN类\n",
    "# 注：该类为笔者自行实现\n",
    "class CNN(nn.Module):\n",
    "    # 基类为nn.Module\n",
    "    def __init__(self, input_dim, output_dim, num_class, kernel_size):\n",
    "        # 构造函数\n",
    "        # input_dim:输入数据维度\n",
    "        # output_dim:卷积输出维度\n",
    "        # num_class:多分类个数\n",
    "        # kernel_size：卷积核宽度\n",
    "        super(CNN, self).__init__()\n",
    "\n",
    "        self.conv = Conv1d(input_dim, output_dim, kernel_size)\n",
    "        # 卷积层\n",
    "        self.pool = F.max_pool1d\n",
    "        # 池化层，使用最大池化\n",
    "        self.linear = nn.Linear(output_dim, num_class)\n",
    "        # 输出层，线性变换\n",
    "\n",
    "    def forward(self, inputs):\n",
    "        # 前向计算函数\n",
    "        # inputs:输入\n",
    "        print(f\"输入size为：{inputs.size()}\")\n",
    "        conv = self.conv(inputs)\n",
    "        print(f\"经过卷积层变换size为：{conv.size()}\")\n",
    "        pool = self.pool(conv, kernel_size = conv.shape[2])\n",
    "        print(f\"经过池化后size为：{pool.size()}\")\n",
    "        pool_squeeze = pool.squeeze(dim=2)\n",
    "        outputs = self.linear(pool_squeeze)\n",
    "        print(f\"输出层输出size为：{outputs.size()}\")\n",
    "        return outputs\n"
   ]
  },
  {
   "cell_type": "code",
   "execution_count": 26,
   "metadata": {},
   "outputs": [
    {
     "name": "stdout",
     "output_type": "stream",
     "text": [
      "输入size为：torch.Size([2, 5, 6])\n",
      "经过隐含层变换size为：torch.Size([2, 2, 3])\n",
      "经过池化后size为：torch.Size([2, 2, 1])\n",
      "输出层输出size为：torch.Size([2, 2])\n",
      "tensor([[0.1097, 0.4246],\n",
      "        [0.0275, 0.3587]], grad_fn=<AddmmBackward0>)\n"
     ]
    }
   ],
   "source": [
    "# 调用该模型\n",
    "cnn = CNN(5, 2, 2, 4)\n",
    "inputs = torch.rand(2,5,6)\n",
    "probs = cnn(inputs)\n",
    "print(probs)"
   ]
  }
 ],
 "metadata": {
  "kernelspec": {
   "display_name": "Python 3.7.13 ('env_for_gpu')",
   "language": "python",
   "name": "python3"
  },
  "language_info": {
   "codemirror_mode": {
    "name": "ipython",
    "version": 3
   },
   "file_extension": ".py",
   "mimetype": "text/x-python",
   "name": "python",
   "nbconvert_exporter": "python",
   "pygments_lexer": "ipython3",
   "version": "3.7.13"
  },
  "orig_nbformat": 4,
  "vscode": {
   "interpreter": {
    "hash": "b125423cf5c6421dfa630e1e0530026ff8478baf79673e49ec884511905104d1"
   }
  }
 },
 "nbformat": 4,
 "nbformat_minor": 2
}
